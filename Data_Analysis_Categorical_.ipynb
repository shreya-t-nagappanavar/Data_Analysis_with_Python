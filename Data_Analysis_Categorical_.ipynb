{
  "nbformat": 4,
  "nbformat_minor": 0,
  "metadata": {
    "colab": {
      "provenance": [],
      "authorship_tag": "ABX9TyP4ioy5bNsaEe5Gz4bLnPmd",
      "include_colab_link": true
    },
    "kernelspec": {
      "name": "python3",
      "display_name": "Python 3"
    },
    "language_info": {
      "name": "python"
    }
  },
  "cells": [
    {
      "cell_type": "markdown",
      "metadata": {
        "id": "view-in-github",
        "colab_type": "text"
      },
      "source": [
        "<a href=\"https://colab.research.google.com/github/shreya-t-nagappanavar/Data_Analysis_with_Python/blob/main/Data_Analysis_Categorical_.ipynb\" target=\"_parent\"><img src=\"https://colab.research.google.com/assets/colab-badge.svg\" alt=\"Open In Colab\"/></a>"
      ]
    },
    {
      "cell_type": "code",
      "execution_count": 1,
      "metadata": {
        "id": "35A7sOagpoOF"
      },
      "outputs": [],
      "source": [
        "import pandas as pd"
      ]
    },
    {
      "cell_type": "code",
      "source": [
        "data = pd.read_csv('/content/sample_data/students - Sheet1.csv')"
      ],
      "metadata": {
        "id": "FaHS9bM3qJ1z"
      },
      "execution_count": 6,
      "outputs": []
    },
    {
      "cell_type": "code",
      "source": [
        "df = data.head(9)"
      ],
      "metadata": {
        "id": "Nsmf3VyzqJwd"
      },
      "execution_count": 12,
      "outputs": []
    },
    {
      "cell_type": "code",
      "source": [
        "df"
      ],
      "metadata": {
        "colab": {
          "base_uri": "https://localhost:8080/",
          "height": 415
        },
        "id": "7Rj0Au6gqcKF",
        "outputId": "544b6e34-d485-4900-f790-06080b276884"
      },
      "execution_count": 13,
      "outputs": [
        {
          "output_type": "execute_result",
          "data": {
            "text/plain": [
              "         id first_name last_name date_of_birth               ethnicity gender  \\\n",
              "0  111111.0       John       Doe       01/2000                Hispanic      M   \n",
              "1  111112.0       Jane     Smith       05/2001                Hispanic      F   \n",
              "2  111113.0      Sarah    Thomas       21/2002                Hispanic      M   \n",
              "3  111114.0      Frank     Brown       13/2002  Race/ethnicity unknown      M   \n",
              "4  111115.0       Mike     Davis       31/2001                   White      F   \n",
              "5  111116.0   Jennifer    Wilson       01/2002                   Asian      M   \n",
              "6  111117.0    Jessica    Garcia       01/2000                   White      F   \n",
              "7  111118.0       Fred     Clark       17/1999                Hispanic      F   \n",
              "8  111119.0        Bob     Lopez       04/1998                   White      F   \n",
              "\n",
              "     status entry_academic_period  exclusion_type  act_composite  ...  \\\n",
              "0        FT             Fall 2008             NaN            NaN  ...   \n",
              "1  TRANSFER             Fall 2006             NaN            NaN  ...   \n",
              "2      FTFT             Fall 2006             NaN           14.0  ...   \n",
              "3      FTFT             Fall 2006             NaN            NaN  ...   \n",
              "4      FTFT             Fall 2007             NaN           22.0  ...   \n",
              "5  TRANSFER             Fall 2006             NaN            NaN  ...   \n",
              "6      FTFT             Fall 2007             NaN           25.0  ...   \n",
              "7    FTGRAD             Fall 2010             NaN           21.0  ...   \n",
              "8      FTFT             Fall 2007             NaN           15.0  ...   \n",
              "\n",
              "   sat_reading hs_gpa      hs_city    hs_state   hs_zip                email  \\\n",
              "0          NaN   2.71  Albuquerque  New Mexico  87112.0     jdoe@example.com   \n",
              "1          NaN   3.73     New York    New York  10009.0   jsmith@example.com   \n",
              "2          NaN   2.64      Pheonix     Arizona  85006.0  sthomas@example.com   \n",
              "3        210.0   3.68      Pheonix     Arizona  85015.0   fbrown@example.com   \n",
              "4          NaN   3.46      Seattle  Washington  98106.0   mdavis@example.com   \n",
              "5          NaN   4.24       Denver    Colorado  80012.0  jwilson@example.com   \n",
              "6          NaN    NaN       Austin       Texas  78703.0  jgarcia@example.com   \n",
              "7          NaN   2.54       Denver    Colorado  80033.0   fclark@example.com   \n",
              "8        220.0   3.24       Denver    Colorado  80122.0   blopez@example.com   \n",
              "\n",
              "   entry_age    ged english_2nd_language first_generation  \n",
              "0       17.9  False                False             True  \n",
              "1       18.1  False                False             True  \n",
              "2       17.6  False                False            False  \n",
              "3       19.0   True                False             True  \n",
              "4       18.2  False                 True            False  \n",
              "5       18.5   True                False             True  \n",
              "6       18.8  False                False            False  \n",
              "7       19.2  False                 True             True  \n",
              "8       18.5  False                False             True  \n",
              "\n",
              "[9 rows x 26 columns]"
            ],
            "text/html": [
              "\n",
              "  <div id=\"df-e250011c-cc7e-42a3-be7c-f9f8c63de4ea\" class=\"colab-df-container\">\n",
              "    <div>\n",
              "<style scoped>\n",
              "    .dataframe tbody tr th:only-of-type {\n",
              "        vertical-align: middle;\n",
              "    }\n",
              "\n",
              "    .dataframe tbody tr th {\n",
              "        vertical-align: top;\n",
              "    }\n",
              "\n",
              "    .dataframe thead th {\n",
              "        text-align: right;\n",
              "    }\n",
              "</style>\n",
              "<table border=\"1\" class=\"dataframe\">\n",
              "  <thead>\n",
              "    <tr style=\"text-align: right;\">\n",
              "      <th></th>\n",
              "      <th>id</th>\n",
              "      <th>first_name</th>\n",
              "      <th>last_name</th>\n",
              "      <th>date_of_birth</th>\n",
              "      <th>ethnicity</th>\n",
              "      <th>gender</th>\n",
              "      <th>status</th>\n",
              "      <th>entry_academic_period</th>\n",
              "      <th>exclusion_type</th>\n",
              "      <th>act_composite</th>\n",
              "      <th>...</th>\n",
              "      <th>sat_reading</th>\n",
              "      <th>hs_gpa</th>\n",
              "      <th>hs_city</th>\n",
              "      <th>hs_state</th>\n",
              "      <th>hs_zip</th>\n",
              "      <th>email</th>\n",
              "      <th>entry_age</th>\n",
              "      <th>ged</th>\n",
              "      <th>english_2nd_language</th>\n",
              "      <th>first_generation</th>\n",
              "    </tr>\n",
              "  </thead>\n",
              "  <tbody>\n",
              "    <tr>\n",
              "      <th>0</th>\n",
              "      <td>111111.0</td>\n",
              "      <td>John</td>\n",
              "      <td>Doe</td>\n",
              "      <td>01/2000</td>\n",
              "      <td>Hispanic</td>\n",
              "      <td>M</td>\n",
              "      <td>FT</td>\n",
              "      <td>Fall 2008</td>\n",
              "      <td>NaN</td>\n",
              "      <td>NaN</td>\n",
              "      <td>...</td>\n",
              "      <td>NaN</td>\n",
              "      <td>2.71</td>\n",
              "      <td>Albuquerque</td>\n",
              "      <td>New Mexico</td>\n",
              "      <td>87112.0</td>\n",
              "      <td>jdoe@example.com</td>\n",
              "      <td>17.9</td>\n",
              "      <td>False</td>\n",
              "      <td>False</td>\n",
              "      <td>True</td>\n",
              "    </tr>\n",
              "    <tr>\n",
              "      <th>1</th>\n",
              "      <td>111112.0</td>\n",
              "      <td>Jane</td>\n",
              "      <td>Smith</td>\n",
              "      <td>05/2001</td>\n",
              "      <td>Hispanic</td>\n",
              "      <td>F</td>\n",
              "      <td>TRANSFER</td>\n",
              "      <td>Fall 2006</td>\n",
              "      <td>NaN</td>\n",
              "      <td>NaN</td>\n",
              "      <td>...</td>\n",
              "      <td>NaN</td>\n",
              "      <td>3.73</td>\n",
              "      <td>New York</td>\n",
              "      <td>New York</td>\n",
              "      <td>10009.0</td>\n",
              "      <td>jsmith@example.com</td>\n",
              "      <td>18.1</td>\n",
              "      <td>False</td>\n",
              "      <td>False</td>\n",
              "      <td>True</td>\n",
              "    </tr>\n",
              "    <tr>\n",
              "      <th>2</th>\n",
              "      <td>111113.0</td>\n",
              "      <td>Sarah</td>\n",
              "      <td>Thomas</td>\n",
              "      <td>21/2002</td>\n",
              "      <td>Hispanic</td>\n",
              "      <td>M</td>\n",
              "      <td>FTFT</td>\n",
              "      <td>Fall 2006</td>\n",
              "      <td>NaN</td>\n",
              "      <td>14.0</td>\n",
              "      <td>...</td>\n",
              "      <td>NaN</td>\n",
              "      <td>2.64</td>\n",
              "      <td>Pheonix</td>\n",
              "      <td>Arizona</td>\n",
              "      <td>85006.0</td>\n",
              "      <td>sthomas@example.com</td>\n",
              "      <td>17.6</td>\n",
              "      <td>False</td>\n",
              "      <td>False</td>\n",
              "      <td>False</td>\n",
              "    </tr>\n",
              "    <tr>\n",
              "      <th>3</th>\n",
              "      <td>111114.0</td>\n",
              "      <td>Frank</td>\n",
              "      <td>Brown</td>\n",
              "      <td>13/2002</td>\n",
              "      <td>Race/ethnicity unknown</td>\n",
              "      <td>M</td>\n",
              "      <td>FTFT</td>\n",
              "      <td>Fall 2006</td>\n",
              "      <td>NaN</td>\n",
              "      <td>NaN</td>\n",
              "      <td>...</td>\n",
              "      <td>210.0</td>\n",
              "      <td>3.68</td>\n",
              "      <td>Pheonix</td>\n",
              "      <td>Arizona</td>\n",
              "      <td>85015.0</td>\n",
              "      <td>fbrown@example.com</td>\n",
              "      <td>19.0</td>\n",
              "      <td>True</td>\n",
              "      <td>False</td>\n",
              "      <td>True</td>\n",
              "    </tr>\n",
              "    <tr>\n",
              "      <th>4</th>\n",
              "      <td>111115.0</td>\n",
              "      <td>Mike</td>\n",
              "      <td>Davis</td>\n",
              "      <td>31/2001</td>\n",
              "      <td>White</td>\n",
              "      <td>F</td>\n",
              "      <td>FTFT</td>\n",
              "      <td>Fall 2007</td>\n",
              "      <td>NaN</td>\n",
              "      <td>22.0</td>\n",
              "      <td>...</td>\n",
              "      <td>NaN</td>\n",
              "      <td>3.46</td>\n",
              "      <td>Seattle</td>\n",
              "      <td>Washington</td>\n",
              "      <td>98106.0</td>\n",
              "      <td>mdavis@example.com</td>\n",
              "      <td>18.2</td>\n",
              "      <td>False</td>\n",
              "      <td>True</td>\n",
              "      <td>False</td>\n",
              "    </tr>\n",
              "    <tr>\n",
              "      <th>5</th>\n",
              "      <td>111116.0</td>\n",
              "      <td>Jennifer</td>\n",
              "      <td>Wilson</td>\n",
              "      <td>01/2002</td>\n",
              "      <td>Asian</td>\n",
              "      <td>M</td>\n",
              "      <td>TRANSFER</td>\n",
              "      <td>Fall 2006</td>\n",
              "      <td>NaN</td>\n",
              "      <td>NaN</td>\n",
              "      <td>...</td>\n",
              "      <td>NaN</td>\n",
              "      <td>4.24</td>\n",
              "      <td>Denver</td>\n",
              "      <td>Colorado</td>\n",
              "      <td>80012.0</td>\n",
              "      <td>jwilson@example.com</td>\n",
              "      <td>18.5</td>\n",
              "      <td>True</td>\n",
              "      <td>False</td>\n",
              "      <td>True</td>\n",
              "    </tr>\n",
              "    <tr>\n",
              "      <th>6</th>\n",
              "      <td>111117.0</td>\n",
              "      <td>Jessica</td>\n",
              "      <td>Garcia</td>\n",
              "      <td>01/2000</td>\n",
              "      <td>White</td>\n",
              "      <td>F</td>\n",
              "      <td>FTFT</td>\n",
              "      <td>Fall 2007</td>\n",
              "      <td>NaN</td>\n",
              "      <td>25.0</td>\n",
              "      <td>...</td>\n",
              "      <td>NaN</td>\n",
              "      <td>NaN</td>\n",
              "      <td>Austin</td>\n",
              "      <td>Texas</td>\n",
              "      <td>78703.0</td>\n",
              "      <td>jgarcia@example.com</td>\n",
              "      <td>18.8</td>\n",
              "      <td>False</td>\n",
              "      <td>False</td>\n",
              "      <td>False</td>\n",
              "    </tr>\n",
              "    <tr>\n",
              "      <th>7</th>\n",
              "      <td>111118.0</td>\n",
              "      <td>Fred</td>\n",
              "      <td>Clark</td>\n",
              "      <td>17/1999</td>\n",
              "      <td>Hispanic</td>\n",
              "      <td>F</td>\n",
              "      <td>FTGRAD</td>\n",
              "      <td>Fall 2010</td>\n",
              "      <td>NaN</td>\n",
              "      <td>21.0</td>\n",
              "      <td>...</td>\n",
              "      <td>NaN</td>\n",
              "      <td>2.54</td>\n",
              "      <td>Denver</td>\n",
              "      <td>Colorado</td>\n",
              "      <td>80033.0</td>\n",
              "      <td>fclark@example.com</td>\n",
              "      <td>19.2</td>\n",
              "      <td>False</td>\n",
              "      <td>True</td>\n",
              "      <td>True</td>\n",
              "    </tr>\n",
              "    <tr>\n",
              "      <th>8</th>\n",
              "      <td>111119.0</td>\n",
              "      <td>Bob</td>\n",
              "      <td>Lopez</td>\n",
              "      <td>04/1998</td>\n",
              "      <td>White</td>\n",
              "      <td>F</td>\n",
              "      <td>FTFT</td>\n",
              "      <td>Fall 2007</td>\n",
              "      <td>NaN</td>\n",
              "      <td>15.0</td>\n",
              "      <td>...</td>\n",
              "      <td>220.0</td>\n",
              "      <td>3.24</td>\n",
              "      <td>Denver</td>\n",
              "      <td>Colorado</td>\n",
              "      <td>80122.0</td>\n",
              "      <td>blopez@example.com</td>\n",
              "      <td>18.5</td>\n",
              "      <td>False</td>\n",
              "      <td>False</td>\n",
              "      <td>True</td>\n",
              "    </tr>\n",
              "  </tbody>\n",
              "</table>\n",
              "<p>9 rows × 26 columns</p>\n",
              "</div>\n",
              "    <div class=\"colab-df-buttons\">\n",
              "\n",
              "  <div class=\"colab-df-container\">\n",
              "    <button class=\"colab-df-convert\" onclick=\"convertToInteractive('df-e250011c-cc7e-42a3-be7c-f9f8c63de4ea')\"\n",
              "            title=\"Convert this dataframe to an interactive table.\"\n",
              "            style=\"display:none;\">\n",
              "\n",
              "  <svg xmlns=\"http://www.w3.org/2000/svg\" height=\"24px\" viewBox=\"0 -960 960 960\">\n",
              "    <path d=\"M120-120v-720h720v720H120Zm60-500h600v-160H180v160Zm220 220h160v-160H400v160Zm0 220h160v-160H400v160ZM180-400h160v-160H180v160Zm440 0h160v-160H620v160ZM180-180h160v-160H180v160Zm440 0h160v-160H620v160Z\"/>\n",
              "  </svg>\n",
              "    </button>\n",
              "\n",
              "  <style>\n",
              "    .colab-df-container {\n",
              "      display:flex;\n",
              "      gap: 12px;\n",
              "    }\n",
              "\n",
              "    .colab-df-convert {\n",
              "      background-color: #E8F0FE;\n",
              "      border: none;\n",
              "      border-radius: 50%;\n",
              "      cursor: pointer;\n",
              "      display: none;\n",
              "      fill: #1967D2;\n",
              "      height: 32px;\n",
              "      padding: 0 0 0 0;\n",
              "      width: 32px;\n",
              "    }\n",
              "\n",
              "    .colab-df-convert:hover {\n",
              "      background-color: #E2EBFA;\n",
              "      box-shadow: 0px 1px 2px rgba(60, 64, 67, 0.3), 0px 1px 3px 1px rgba(60, 64, 67, 0.15);\n",
              "      fill: #174EA6;\n",
              "    }\n",
              "\n",
              "    .colab-df-buttons div {\n",
              "      margin-bottom: 4px;\n",
              "    }\n",
              "\n",
              "    [theme=dark] .colab-df-convert {\n",
              "      background-color: #3B4455;\n",
              "      fill: #D2E3FC;\n",
              "    }\n",
              "\n",
              "    [theme=dark] .colab-df-convert:hover {\n",
              "      background-color: #434B5C;\n",
              "      box-shadow: 0px 1px 3px 1px rgba(0, 0, 0, 0.15);\n",
              "      filter: drop-shadow(0px 1px 2px rgba(0, 0, 0, 0.3));\n",
              "      fill: #FFFFFF;\n",
              "    }\n",
              "  </style>\n",
              "\n",
              "    <script>\n",
              "      const buttonEl =\n",
              "        document.querySelector('#df-e250011c-cc7e-42a3-be7c-f9f8c63de4ea button.colab-df-convert');\n",
              "      buttonEl.style.display =\n",
              "        google.colab.kernel.accessAllowed ? 'block' : 'none';\n",
              "\n",
              "      async function convertToInteractive(key) {\n",
              "        const element = document.querySelector('#df-e250011c-cc7e-42a3-be7c-f9f8c63de4ea');\n",
              "        const dataTable =\n",
              "          await google.colab.kernel.invokeFunction('convertToInteractive',\n",
              "                                                    [key], {});\n",
              "        if (!dataTable) return;\n",
              "\n",
              "        const docLinkHtml = 'Like what you see? Visit the ' +\n",
              "          '<a target=\"_blank\" href=https://colab.research.google.com/notebooks/data_table.ipynb>data table notebook</a>'\n",
              "          + ' to learn more about interactive tables.';\n",
              "        element.innerHTML = '';\n",
              "        dataTable['output_type'] = 'display_data';\n",
              "        await google.colab.output.renderOutput(dataTable, element);\n",
              "        const docLink = document.createElement('div');\n",
              "        docLink.innerHTML = docLinkHtml;\n",
              "        element.appendChild(docLink);\n",
              "      }\n",
              "    </script>\n",
              "  </div>\n",
              "\n",
              "\n",
              "<div id=\"df-e81e8b90-55cc-4da0-ac16-166d66ff5df0\">\n",
              "  <button class=\"colab-df-quickchart\" onclick=\"quickchart('df-e81e8b90-55cc-4da0-ac16-166d66ff5df0')\"\n",
              "            title=\"Suggest charts\"\n",
              "            style=\"display:none;\">\n",
              "\n",
              "<svg xmlns=\"http://www.w3.org/2000/svg\" height=\"24px\"viewBox=\"0 0 24 24\"\n",
              "     width=\"24px\">\n",
              "    <g>\n",
              "        <path d=\"M19 3H5c-1.1 0-2 .9-2 2v14c0 1.1.9 2 2 2h14c1.1 0 2-.9 2-2V5c0-1.1-.9-2-2-2zM9 17H7v-7h2v7zm4 0h-2V7h2v10zm4 0h-2v-4h2v4z\"/>\n",
              "    </g>\n",
              "</svg>\n",
              "  </button>\n",
              "\n",
              "<style>\n",
              "  .colab-df-quickchart {\n",
              "      --bg-color: #E8F0FE;\n",
              "      --fill-color: #1967D2;\n",
              "      --hover-bg-color: #E2EBFA;\n",
              "      --hover-fill-color: #174EA6;\n",
              "      --disabled-fill-color: #AAA;\n",
              "      --disabled-bg-color: #DDD;\n",
              "  }\n",
              "\n",
              "  [theme=dark] .colab-df-quickchart {\n",
              "      --bg-color: #3B4455;\n",
              "      --fill-color: #D2E3FC;\n",
              "      --hover-bg-color: #434B5C;\n",
              "      --hover-fill-color: #FFFFFF;\n",
              "      --disabled-bg-color: #3B4455;\n",
              "      --disabled-fill-color: #666;\n",
              "  }\n",
              "\n",
              "  .colab-df-quickchart {\n",
              "    background-color: var(--bg-color);\n",
              "    border: none;\n",
              "    border-radius: 50%;\n",
              "    cursor: pointer;\n",
              "    display: none;\n",
              "    fill: var(--fill-color);\n",
              "    height: 32px;\n",
              "    padding: 0;\n",
              "    width: 32px;\n",
              "  }\n",
              "\n",
              "  .colab-df-quickchart:hover {\n",
              "    background-color: var(--hover-bg-color);\n",
              "    box-shadow: 0 1px 2px rgba(60, 64, 67, 0.3), 0 1px 3px 1px rgba(60, 64, 67, 0.15);\n",
              "    fill: var(--button-hover-fill-color);\n",
              "  }\n",
              "\n",
              "  .colab-df-quickchart-complete:disabled,\n",
              "  .colab-df-quickchart-complete:disabled:hover {\n",
              "    background-color: var(--disabled-bg-color);\n",
              "    fill: var(--disabled-fill-color);\n",
              "    box-shadow: none;\n",
              "  }\n",
              "\n",
              "  .colab-df-spinner {\n",
              "    border: 2px solid var(--fill-color);\n",
              "    border-color: transparent;\n",
              "    border-bottom-color: var(--fill-color);\n",
              "    animation:\n",
              "      spin 1s steps(1) infinite;\n",
              "  }\n",
              "\n",
              "  @keyframes spin {\n",
              "    0% {\n",
              "      border-color: transparent;\n",
              "      border-bottom-color: var(--fill-color);\n",
              "      border-left-color: var(--fill-color);\n",
              "    }\n",
              "    20% {\n",
              "      border-color: transparent;\n",
              "      border-left-color: var(--fill-color);\n",
              "      border-top-color: var(--fill-color);\n",
              "    }\n",
              "    30% {\n",
              "      border-color: transparent;\n",
              "      border-left-color: var(--fill-color);\n",
              "      border-top-color: var(--fill-color);\n",
              "      border-right-color: var(--fill-color);\n",
              "    }\n",
              "    40% {\n",
              "      border-color: transparent;\n",
              "      border-right-color: var(--fill-color);\n",
              "      border-top-color: var(--fill-color);\n",
              "    }\n",
              "    60% {\n",
              "      border-color: transparent;\n",
              "      border-right-color: var(--fill-color);\n",
              "    }\n",
              "    80% {\n",
              "      border-color: transparent;\n",
              "      border-right-color: var(--fill-color);\n",
              "      border-bottom-color: var(--fill-color);\n",
              "    }\n",
              "    90% {\n",
              "      border-color: transparent;\n",
              "      border-bottom-color: var(--fill-color);\n",
              "    }\n",
              "  }\n",
              "</style>\n",
              "\n",
              "  <script>\n",
              "    async function quickchart(key) {\n",
              "      const quickchartButtonEl =\n",
              "        document.querySelector('#' + key + ' button');\n",
              "      quickchartButtonEl.disabled = true;  // To prevent multiple clicks.\n",
              "      quickchartButtonEl.classList.add('colab-df-spinner');\n",
              "      try {\n",
              "        const charts = await google.colab.kernel.invokeFunction(\n",
              "            'suggestCharts', [key], {});\n",
              "      } catch (error) {\n",
              "        console.error('Error during call to suggestCharts:', error);\n",
              "      }\n",
              "      quickchartButtonEl.classList.remove('colab-df-spinner');\n",
              "      quickchartButtonEl.classList.add('colab-df-quickchart-complete');\n",
              "    }\n",
              "    (() => {\n",
              "      let quickchartButtonEl =\n",
              "        document.querySelector('#df-e81e8b90-55cc-4da0-ac16-166d66ff5df0 button');\n",
              "      quickchartButtonEl.style.display =\n",
              "        google.colab.kernel.accessAllowed ? 'block' : 'none';\n",
              "    })();\n",
              "  </script>\n",
              "</div>\n",
              "    </div>\n",
              "  </div>\n"
            ]
          },
          "metadata": {},
          "execution_count": 13
        }
      ]
    },
    {
      "cell_type": "code",
      "source": [
        "for i in df['hs_city'].unique():\n",
        "  print(i)"
      ],
      "metadata": {
        "colab": {
          "base_uri": "https://localhost:8080/"
        },
        "id": "6gNVxzkhqcGM",
        "outputId": "3b879152-bd60-45cb-f1f4-85d0957391a6"
      },
      "execution_count": 16,
      "outputs": [
        {
          "output_type": "stream",
          "name": "stdout",
          "text": [
            "Albuquerque\n",
            "New York\n",
            "Pheonix\n",
            "Seattle\n",
            "Denver\n",
            "Austin\n"
          ]
        }
      ]
    },
    {
      "cell_type": "code",
      "source": [
        "len(df['hs_city'].unique())"
      ],
      "metadata": {
        "colab": {
          "base_uri": "https://localhost:8080/"
        },
        "id": "bQazjo9lqcEi",
        "outputId": "90f88875-a687-4640-987b-f3c1977fbabe"
      },
      "execution_count": 17,
      "outputs": [
        {
          "output_type": "execute_result",
          "data": {
            "text/plain": [
              "6"
            ]
          },
          "metadata": {},
          "execution_count": 17
        }
      ]
    },
    {
      "cell_type": "markdown",
      "source": [
        "**1) Total number of cities**"
      ],
      "metadata": {
        "id": "YT7ZjFGCsuEy"
      }
    },
    {
      "cell_type": "code",
      "source": [
        "print(\"There are total these many cities = \",len(df['hs_city'].unique()))"
      ],
      "metadata": {
        "colab": {
          "base_uri": "https://localhost:8080/"
        },
        "id": "TIsmr7qKsT6j",
        "outputId": "29c50a89-8a40-4d73-8246-def6b446ed43"
      },
      "execution_count": 19,
      "outputs": [
        {
          "output_type": "stream",
          "name": "stdout",
          "text": [
            "There are total these many cities =  6\n"
          ]
        }
      ]
    },
    {
      "cell_type": "markdown",
      "source": [
        "**2) Total number of students living in pheonix city**"
      ],
      "metadata": {
        "id": "jnR9q-ZzttWu"
      }
    },
    {
      "cell_type": "code",
      "source": [
        "c = 0\n",
        "for i in df['hs_city']:\n",
        "  if(i == 'Pheonix'):\n",
        "    c += 1\n",
        "print(\"Total number of students living in pheonix city are = \",c)"
      ],
      "metadata": {
        "colab": {
          "base_uri": "https://localhost:8080/"
        },
        "id": "wjYzlIP6sl37",
        "outputId": "6552c6de-fb52-43df-e8cb-69e2b5ea2f40"
      },
      "execution_count": 21,
      "outputs": [
        {
          "output_type": "stream",
          "name": "stdout",
          "text": [
            "Total number of students living in pheonix city are =  2\n"
          ]
        }
      ]
    },
    {
      "cell_type": "markdown",
      "source": [
        "**3) Total number of female students**"
      ],
      "metadata": {
        "id": "4roBkZCpt6SK"
      }
    },
    {
      "cell_type": "code",
      "source": [
        "c = 0\n",
        "for i in  df['gender']:\n",
        "  if(i == 'F'):\n",
        "    c += 1\n",
        "print(\"Total number of female students are = \",c)\n"
      ],
      "metadata": {
        "colab": {
          "base_uri": "https://localhost:8080/"
        },
        "id": "u8NSv_nZtnN6",
        "outputId": "98cd1119-6c5f-42ae-e829-de18cc8d4b40"
      },
      "execution_count": 22,
      "outputs": [
        {
          "output_type": "stream",
          "name": "stdout",
          "text": [
            "Total number of female students are =  5\n"
          ]
        }
      ]
    },
    {
      "cell_type": "markdown",
      "source": [
        "**4) Total number of male students**"
      ],
      "metadata": {
        "id": "ml7YOis5unFk"
      }
    },
    {
      "cell_type": "code",
      "source": [
        "c = 0\n",
        "for i in  df['gender']:\n",
        "  if(i == 'M'):\n",
        "    c += 1\n",
        "print(\"Total number of male students are = \",c)"
      ],
      "metadata": {
        "colab": {
          "base_uri": "https://localhost:8080/"
        },
        "id": "YSbCah6lsl06",
        "outputId": "368ebfc9-2dda-436c-b79a-d0f0a591a73b"
      },
      "execution_count": 23,
      "outputs": [
        {
          "output_type": "stream",
          "name": "stdout",
          "text": [
            "Total number of male students are =  4\n"
          ]
        }
      ]
    }
  ]
}