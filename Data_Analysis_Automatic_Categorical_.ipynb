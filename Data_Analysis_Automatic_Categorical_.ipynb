{
  "nbformat": 4,
  "nbformat_minor": 0,
  "metadata": {
    "colab": {
      "provenance": [],
      "authorship_tag": "ABX9TyPvbEyAiklc8EAKs5RjS0nO",
      "include_colab_link": true
    },
    "kernelspec": {
      "name": "python3",
      "display_name": "Python 3"
    },
    "language_info": {
      "name": "python"
    }
  },
  "cells": [
    {
      "cell_type": "markdown",
      "metadata": {
        "id": "view-in-github",
        "colab_type": "text"
      },
      "source": [
        "<a href=\"https://colab.research.google.com/github/shreya-t-nagappanavar/Data_Analysis_with_Python/blob/main/Data_Analysis_Automatic_Categorical_.ipynb\" target=\"_parent\"><img src=\"https://colab.research.google.com/assets/colab-badge.svg\" alt=\"Open In Colab\"/></a>"
      ]
    },
    {
      "cell_type": "code",
      "execution_count": 1,
      "metadata": {
        "id": "EoOgQLocvP3C"
      },
      "outputs": [],
      "source": [
        "import pandas as pd"
      ]
    },
    {
      "cell_type": "code",
      "source": [
        "data1 = pd.read_csv('/content/sample_data/students - Sheet1.csv')"
      ],
      "metadata": {
        "id": "YNKlRkc7vpok"
      },
      "execution_count": 3,
      "outputs": []
    },
    {
      "cell_type": "code",
      "source": [
        "df = data1.head(9)"
      ],
      "metadata": {
        "id": "Q9sE5yJov1EM"
      },
      "execution_count": 5,
      "outputs": []
    },
    {
      "cell_type": "code",
      "source": [
        "df"
      ],
      "metadata": {
        "colab": {
          "base_uri": "https://localhost:8080/",
          "height": 415
        },
        "id": "pvYCJeASv8HZ",
        "outputId": "87fa30e4-e077-4b36-de75-0e4ca69499bc"
      },
      "execution_count": 6,
      "outputs": [
        {
          "output_type": "execute_result",
          "data": {
            "text/plain": [
              "         id first_name last_name date_of_birth               ethnicity gender  \\\n",
              "0  111111.0       John       Doe       01/2000                Hispanic      M   \n",
              "1  111112.0       Jane     Smith       05/2001                Hispanic      F   \n",
              "2  111113.0      Sarah    Thomas       21/2002                Hispanic      M   \n",
              "3  111114.0      Frank     Brown       13/2002  Race/ethnicity unknown      M   \n",
              "4  111115.0       Mike     Davis       31/2001                   White      F   \n",
              "5  111116.0   Jennifer    Wilson       01/2002                   Asian      M   \n",
              "6  111117.0    Jessica    Garcia       01/2000                   White      F   \n",
              "7  111118.0       Fred     Clark       17/1999                Hispanic      F   \n",
              "8  111119.0        Bob     Lopez       04/1998                   White      F   \n",
              "\n",
              "     status entry_academic_period  exclusion_type  act_composite  ...  \\\n",
              "0        FT             Fall 2008             NaN            NaN  ...   \n",
              "1  TRANSFER             Fall 2006             NaN            NaN  ...   \n",
              "2      FTFT             Fall 2006             NaN           14.0  ...   \n",
              "3      FTFT             Fall 2006             NaN            NaN  ...   \n",
              "4      FTFT             Fall 2007             NaN           22.0  ...   \n",
              "5  TRANSFER             Fall 2006             NaN            NaN  ...   \n",
              "6      FTFT             Fall 2007             NaN           25.0  ...   \n",
              "7    FTGRAD             Fall 2010             NaN           21.0  ...   \n",
              "8      FTFT             Fall 2007             NaN           15.0  ...   \n",
              "\n",
              "   sat_reading hs_gpa      hs_city    hs_state   hs_zip                email  \\\n",
              "0          NaN   2.71  Albuquerque  New Mexico  87112.0     jdoe@example.com   \n",
              "1          NaN   3.73     New York    New York  10009.0   jsmith@example.com   \n",
              "2          NaN   2.64      Pheonix     Arizona  85006.0  sthomas@example.com   \n",
              "3        210.0   3.68      Pheonix     Arizona  85015.0   fbrown@example.com   \n",
              "4          NaN   3.46      Seattle  Washington  98106.0   mdavis@example.com   \n",
              "5          NaN   4.24       Denver    Colorado  80012.0  jwilson@example.com   \n",
              "6          NaN    NaN       Austin       Texas  78703.0  jgarcia@example.com   \n",
              "7          NaN   2.54       Denver    Colorado  80033.0   fclark@example.com   \n",
              "8        220.0   3.24       Denver    Colorado  80122.0   blopez@example.com   \n",
              "\n",
              "   entry_age    ged english_2nd_language first_generation  \n",
              "0       17.9  False                False             True  \n",
              "1       18.1  False                False             True  \n",
              "2       17.6  False                False            False  \n",
              "3       19.0   True                False             True  \n",
              "4       18.2  False                 True            False  \n",
              "5       18.5   True                False             True  \n",
              "6       18.8  False                False            False  \n",
              "7       19.2  False                 True             True  \n",
              "8       18.5  False                False             True  \n",
              "\n",
              "[9 rows x 26 columns]"
            ],
            "text/html": [
              "\n",
              "  <div id=\"df-37a13482-60ec-4d27-9fe3-f676cfe8e768\" class=\"colab-df-container\">\n",
              "    <div>\n",
              "<style scoped>\n",
              "    .dataframe tbody tr th:only-of-type {\n",
              "        vertical-align: middle;\n",
              "    }\n",
              "\n",
              "    .dataframe tbody tr th {\n",
              "        vertical-align: top;\n",
              "    }\n",
              "\n",
              "    .dataframe thead th {\n",
              "        text-align: right;\n",
              "    }\n",
              "</style>\n",
              "<table border=\"1\" class=\"dataframe\">\n",
              "  <thead>\n",
              "    <tr style=\"text-align: right;\">\n",
              "      <th></th>\n",
              "      <th>id</th>\n",
              "      <th>first_name</th>\n",
              "      <th>last_name</th>\n",
              "      <th>date_of_birth</th>\n",
              "      <th>ethnicity</th>\n",
              "      <th>gender</th>\n",
              "      <th>status</th>\n",
              "      <th>entry_academic_period</th>\n",
              "      <th>exclusion_type</th>\n",
              "      <th>act_composite</th>\n",
              "      <th>...</th>\n",
              "      <th>sat_reading</th>\n",
              "      <th>hs_gpa</th>\n",
              "      <th>hs_city</th>\n",
              "      <th>hs_state</th>\n",
              "      <th>hs_zip</th>\n",
              "      <th>email</th>\n",
              "      <th>entry_age</th>\n",
              "      <th>ged</th>\n",
              "      <th>english_2nd_language</th>\n",
              "      <th>first_generation</th>\n",
              "    </tr>\n",
              "  </thead>\n",
              "  <tbody>\n",
              "    <tr>\n",
              "      <th>0</th>\n",
              "      <td>111111.0</td>\n",
              "      <td>John</td>\n",
              "      <td>Doe</td>\n",
              "      <td>01/2000</td>\n",
              "      <td>Hispanic</td>\n",
              "      <td>M</td>\n",
              "      <td>FT</td>\n",
              "      <td>Fall 2008</td>\n",
              "      <td>NaN</td>\n",
              "      <td>NaN</td>\n",
              "      <td>...</td>\n",
              "      <td>NaN</td>\n",
              "      <td>2.71</td>\n",
              "      <td>Albuquerque</td>\n",
              "      <td>New Mexico</td>\n",
              "      <td>87112.0</td>\n",
              "      <td>jdoe@example.com</td>\n",
              "      <td>17.9</td>\n",
              "      <td>False</td>\n",
              "      <td>False</td>\n",
              "      <td>True</td>\n",
              "    </tr>\n",
              "    <tr>\n",
              "      <th>1</th>\n",
              "      <td>111112.0</td>\n",
              "      <td>Jane</td>\n",
              "      <td>Smith</td>\n",
              "      <td>05/2001</td>\n",
              "      <td>Hispanic</td>\n",
              "      <td>F</td>\n",
              "      <td>TRANSFER</td>\n",
              "      <td>Fall 2006</td>\n",
              "      <td>NaN</td>\n",
              "      <td>NaN</td>\n",
              "      <td>...</td>\n",
              "      <td>NaN</td>\n",
              "      <td>3.73</td>\n",
              "      <td>New York</td>\n",
              "      <td>New York</td>\n",
              "      <td>10009.0</td>\n",
              "      <td>jsmith@example.com</td>\n",
              "      <td>18.1</td>\n",
              "      <td>False</td>\n",
              "      <td>False</td>\n",
              "      <td>True</td>\n",
              "    </tr>\n",
              "    <tr>\n",
              "      <th>2</th>\n",
              "      <td>111113.0</td>\n",
              "      <td>Sarah</td>\n",
              "      <td>Thomas</td>\n",
              "      <td>21/2002</td>\n",
              "      <td>Hispanic</td>\n",
              "      <td>M</td>\n",
              "      <td>FTFT</td>\n",
              "      <td>Fall 2006</td>\n",
              "      <td>NaN</td>\n",
              "      <td>14.0</td>\n",
              "      <td>...</td>\n",
              "      <td>NaN</td>\n",
              "      <td>2.64</td>\n",
              "      <td>Pheonix</td>\n",
              "      <td>Arizona</td>\n",
              "      <td>85006.0</td>\n",
              "      <td>sthomas@example.com</td>\n",
              "      <td>17.6</td>\n",
              "      <td>False</td>\n",
              "      <td>False</td>\n",
              "      <td>False</td>\n",
              "    </tr>\n",
              "    <tr>\n",
              "      <th>3</th>\n",
              "      <td>111114.0</td>\n",
              "      <td>Frank</td>\n",
              "      <td>Brown</td>\n",
              "      <td>13/2002</td>\n",
              "      <td>Race/ethnicity unknown</td>\n",
              "      <td>M</td>\n",
              "      <td>FTFT</td>\n",
              "      <td>Fall 2006</td>\n",
              "      <td>NaN</td>\n",
              "      <td>NaN</td>\n",
              "      <td>...</td>\n",
              "      <td>210.0</td>\n",
              "      <td>3.68</td>\n",
              "      <td>Pheonix</td>\n",
              "      <td>Arizona</td>\n",
              "      <td>85015.0</td>\n",
              "      <td>fbrown@example.com</td>\n",
              "      <td>19.0</td>\n",
              "      <td>True</td>\n",
              "      <td>False</td>\n",
              "      <td>True</td>\n",
              "    </tr>\n",
              "    <tr>\n",
              "      <th>4</th>\n",
              "      <td>111115.0</td>\n",
              "      <td>Mike</td>\n",
              "      <td>Davis</td>\n",
              "      <td>31/2001</td>\n",
              "      <td>White</td>\n",
              "      <td>F</td>\n",
              "      <td>FTFT</td>\n",
              "      <td>Fall 2007</td>\n",
              "      <td>NaN</td>\n",
              "      <td>22.0</td>\n",
              "      <td>...</td>\n",
              "      <td>NaN</td>\n",
              "      <td>3.46</td>\n",
              "      <td>Seattle</td>\n",
              "      <td>Washington</td>\n",
              "      <td>98106.0</td>\n",
              "      <td>mdavis@example.com</td>\n",
              "      <td>18.2</td>\n",
              "      <td>False</td>\n",
              "      <td>True</td>\n",
              "      <td>False</td>\n",
              "    </tr>\n",
              "    <tr>\n",
              "      <th>5</th>\n",
              "      <td>111116.0</td>\n",
              "      <td>Jennifer</td>\n",
              "      <td>Wilson</td>\n",
              "      <td>01/2002</td>\n",
              "      <td>Asian</td>\n",
              "      <td>M</td>\n",
              "      <td>TRANSFER</td>\n",
              "      <td>Fall 2006</td>\n",
              "      <td>NaN</td>\n",
              "      <td>NaN</td>\n",
              "      <td>...</td>\n",
              "      <td>NaN</td>\n",
              "      <td>4.24</td>\n",
              "      <td>Denver</td>\n",
              "      <td>Colorado</td>\n",
              "      <td>80012.0</td>\n",
              "      <td>jwilson@example.com</td>\n",
              "      <td>18.5</td>\n",
              "      <td>True</td>\n",
              "      <td>False</td>\n",
              "      <td>True</td>\n",
              "    </tr>\n",
              "    <tr>\n",
              "      <th>6</th>\n",
              "      <td>111117.0</td>\n",
              "      <td>Jessica</td>\n",
              "      <td>Garcia</td>\n",
              "      <td>01/2000</td>\n",
              "      <td>White</td>\n",
              "      <td>F</td>\n",
              "      <td>FTFT</td>\n",
              "      <td>Fall 2007</td>\n",
              "      <td>NaN</td>\n",
              "      <td>25.0</td>\n",
              "      <td>...</td>\n",
              "      <td>NaN</td>\n",
              "      <td>NaN</td>\n",
              "      <td>Austin</td>\n",
              "      <td>Texas</td>\n",
              "      <td>78703.0</td>\n",
              "      <td>jgarcia@example.com</td>\n",
              "      <td>18.8</td>\n",
              "      <td>False</td>\n",
              "      <td>False</td>\n",
              "      <td>False</td>\n",
              "    </tr>\n",
              "    <tr>\n",
              "      <th>7</th>\n",
              "      <td>111118.0</td>\n",
              "      <td>Fred</td>\n",
              "      <td>Clark</td>\n",
              "      <td>17/1999</td>\n",
              "      <td>Hispanic</td>\n",
              "      <td>F</td>\n",
              "      <td>FTGRAD</td>\n",
              "      <td>Fall 2010</td>\n",
              "      <td>NaN</td>\n",
              "      <td>21.0</td>\n",
              "      <td>...</td>\n",
              "      <td>NaN</td>\n",
              "      <td>2.54</td>\n",
              "      <td>Denver</td>\n",
              "      <td>Colorado</td>\n",
              "      <td>80033.0</td>\n",
              "      <td>fclark@example.com</td>\n",
              "      <td>19.2</td>\n",
              "      <td>False</td>\n",
              "      <td>True</td>\n",
              "      <td>True</td>\n",
              "    </tr>\n",
              "    <tr>\n",
              "      <th>8</th>\n",
              "      <td>111119.0</td>\n",
              "      <td>Bob</td>\n",
              "      <td>Lopez</td>\n",
              "      <td>04/1998</td>\n",
              "      <td>White</td>\n",
              "      <td>F</td>\n",
              "      <td>FTFT</td>\n",
              "      <td>Fall 2007</td>\n",
              "      <td>NaN</td>\n",
              "      <td>15.0</td>\n",
              "      <td>...</td>\n",
              "      <td>220.0</td>\n",
              "      <td>3.24</td>\n",
              "      <td>Denver</td>\n",
              "      <td>Colorado</td>\n",
              "      <td>80122.0</td>\n",
              "      <td>blopez@example.com</td>\n",
              "      <td>18.5</td>\n",
              "      <td>False</td>\n",
              "      <td>False</td>\n",
              "      <td>True</td>\n",
              "    </tr>\n",
              "  </tbody>\n",
              "</table>\n",
              "<p>9 rows × 26 columns</p>\n",
              "</div>\n",
              "    <div class=\"colab-df-buttons\">\n",
              "\n",
              "  <div class=\"colab-df-container\">\n",
              "    <button class=\"colab-df-convert\" onclick=\"convertToInteractive('df-37a13482-60ec-4d27-9fe3-f676cfe8e768')\"\n",
              "            title=\"Convert this dataframe to an interactive table.\"\n",
              "            style=\"display:none;\">\n",
              "\n",
              "  <svg xmlns=\"http://www.w3.org/2000/svg\" height=\"24px\" viewBox=\"0 -960 960 960\">\n",
              "    <path d=\"M120-120v-720h720v720H120Zm60-500h600v-160H180v160Zm220 220h160v-160H400v160Zm0 220h160v-160H400v160ZM180-400h160v-160H180v160Zm440 0h160v-160H620v160ZM180-180h160v-160H180v160Zm440 0h160v-160H620v160Z\"/>\n",
              "  </svg>\n",
              "    </button>\n",
              "\n",
              "  <style>\n",
              "    .colab-df-container {\n",
              "      display:flex;\n",
              "      gap: 12px;\n",
              "    }\n",
              "\n",
              "    .colab-df-convert {\n",
              "      background-color: #E8F0FE;\n",
              "      border: none;\n",
              "      border-radius: 50%;\n",
              "      cursor: pointer;\n",
              "      display: none;\n",
              "      fill: #1967D2;\n",
              "      height: 32px;\n",
              "      padding: 0 0 0 0;\n",
              "      width: 32px;\n",
              "    }\n",
              "\n",
              "    .colab-df-convert:hover {\n",
              "      background-color: #E2EBFA;\n",
              "      box-shadow: 0px 1px 2px rgba(60, 64, 67, 0.3), 0px 1px 3px 1px rgba(60, 64, 67, 0.15);\n",
              "      fill: #174EA6;\n",
              "    }\n",
              "\n",
              "    .colab-df-buttons div {\n",
              "      margin-bottom: 4px;\n",
              "    }\n",
              "\n",
              "    [theme=dark] .colab-df-convert {\n",
              "      background-color: #3B4455;\n",
              "      fill: #D2E3FC;\n",
              "    }\n",
              "\n",
              "    [theme=dark] .colab-df-convert:hover {\n",
              "      background-color: #434B5C;\n",
              "      box-shadow: 0px 1px 3px 1px rgba(0, 0, 0, 0.15);\n",
              "      filter: drop-shadow(0px 1px 2px rgba(0, 0, 0, 0.3));\n",
              "      fill: #FFFFFF;\n",
              "    }\n",
              "  </style>\n",
              "\n",
              "    <script>\n",
              "      const buttonEl =\n",
              "        document.querySelector('#df-37a13482-60ec-4d27-9fe3-f676cfe8e768 button.colab-df-convert');\n",
              "      buttonEl.style.display =\n",
              "        google.colab.kernel.accessAllowed ? 'block' : 'none';\n",
              "\n",
              "      async function convertToInteractive(key) {\n",
              "        const element = document.querySelector('#df-37a13482-60ec-4d27-9fe3-f676cfe8e768');\n",
              "        const dataTable =\n",
              "          await google.colab.kernel.invokeFunction('convertToInteractive',\n",
              "                                                    [key], {});\n",
              "        if (!dataTable) return;\n",
              "\n",
              "        const docLinkHtml = 'Like what you see? Visit the ' +\n",
              "          '<a target=\"_blank\" href=https://colab.research.google.com/notebooks/data_table.ipynb>data table notebook</a>'\n",
              "          + ' to learn more about interactive tables.';\n",
              "        element.innerHTML = '';\n",
              "        dataTable['output_type'] = 'display_data';\n",
              "        await google.colab.output.renderOutput(dataTable, element);\n",
              "        const docLink = document.createElement('div');\n",
              "        docLink.innerHTML = docLinkHtml;\n",
              "        element.appendChild(docLink);\n",
              "      }\n",
              "    </script>\n",
              "  </div>\n",
              "\n",
              "\n",
              "<div id=\"df-80289ef8-dcd8-458c-82dd-71a2eb71225f\">\n",
              "  <button class=\"colab-df-quickchart\" onclick=\"quickchart('df-80289ef8-dcd8-458c-82dd-71a2eb71225f')\"\n",
              "            title=\"Suggest charts\"\n",
              "            style=\"display:none;\">\n",
              "\n",
              "<svg xmlns=\"http://www.w3.org/2000/svg\" height=\"24px\"viewBox=\"0 0 24 24\"\n",
              "     width=\"24px\">\n",
              "    <g>\n",
              "        <path d=\"M19 3H5c-1.1 0-2 .9-2 2v14c0 1.1.9 2 2 2h14c1.1 0 2-.9 2-2V5c0-1.1-.9-2-2-2zM9 17H7v-7h2v7zm4 0h-2V7h2v10zm4 0h-2v-4h2v4z\"/>\n",
              "    </g>\n",
              "</svg>\n",
              "  </button>\n",
              "\n",
              "<style>\n",
              "  .colab-df-quickchart {\n",
              "      --bg-color: #E8F0FE;\n",
              "      --fill-color: #1967D2;\n",
              "      --hover-bg-color: #E2EBFA;\n",
              "      --hover-fill-color: #174EA6;\n",
              "      --disabled-fill-color: #AAA;\n",
              "      --disabled-bg-color: #DDD;\n",
              "  }\n",
              "\n",
              "  [theme=dark] .colab-df-quickchart {\n",
              "      --bg-color: #3B4455;\n",
              "      --fill-color: #D2E3FC;\n",
              "      --hover-bg-color: #434B5C;\n",
              "      --hover-fill-color: #FFFFFF;\n",
              "      --disabled-bg-color: #3B4455;\n",
              "      --disabled-fill-color: #666;\n",
              "  }\n",
              "\n",
              "  .colab-df-quickchart {\n",
              "    background-color: var(--bg-color);\n",
              "    border: none;\n",
              "    border-radius: 50%;\n",
              "    cursor: pointer;\n",
              "    display: none;\n",
              "    fill: var(--fill-color);\n",
              "    height: 32px;\n",
              "    padding: 0;\n",
              "    width: 32px;\n",
              "  }\n",
              "\n",
              "  .colab-df-quickchart:hover {\n",
              "    background-color: var(--hover-bg-color);\n",
              "    box-shadow: 0 1px 2px rgba(60, 64, 67, 0.3), 0 1px 3px 1px rgba(60, 64, 67, 0.15);\n",
              "    fill: var(--button-hover-fill-color);\n",
              "  }\n",
              "\n",
              "  .colab-df-quickchart-complete:disabled,\n",
              "  .colab-df-quickchart-complete:disabled:hover {\n",
              "    background-color: var(--disabled-bg-color);\n",
              "    fill: var(--disabled-fill-color);\n",
              "    box-shadow: none;\n",
              "  }\n",
              "\n",
              "  .colab-df-spinner {\n",
              "    border: 2px solid var(--fill-color);\n",
              "    border-color: transparent;\n",
              "    border-bottom-color: var(--fill-color);\n",
              "    animation:\n",
              "      spin 1s steps(1) infinite;\n",
              "  }\n",
              "\n",
              "  @keyframes spin {\n",
              "    0% {\n",
              "      border-color: transparent;\n",
              "      border-bottom-color: var(--fill-color);\n",
              "      border-left-color: var(--fill-color);\n",
              "    }\n",
              "    20% {\n",
              "      border-color: transparent;\n",
              "      border-left-color: var(--fill-color);\n",
              "      border-top-color: var(--fill-color);\n",
              "    }\n",
              "    30% {\n",
              "      border-color: transparent;\n",
              "      border-left-color: var(--fill-color);\n",
              "      border-top-color: var(--fill-color);\n",
              "      border-right-color: var(--fill-color);\n",
              "    }\n",
              "    40% {\n",
              "      border-color: transparent;\n",
              "      border-right-color: var(--fill-color);\n",
              "      border-top-color: var(--fill-color);\n",
              "    }\n",
              "    60% {\n",
              "      border-color: transparent;\n",
              "      border-right-color: var(--fill-color);\n",
              "    }\n",
              "    80% {\n",
              "      border-color: transparent;\n",
              "      border-right-color: var(--fill-color);\n",
              "      border-bottom-color: var(--fill-color);\n",
              "    }\n",
              "    90% {\n",
              "      border-color: transparent;\n",
              "      border-bottom-color: var(--fill-color);\n",
              "    }\n",
              "  }\n",
              "</style>\n",
              "\n",
              "  <script>\n",
              "    async function quickchart(key) {\n",
              "      const quickchartButtonEl =\n",
              "        document.querySelector('#' + key + ' button');\n",
              "      quickchartButtonEl.disabled = true;  // To prevent multiple clicks.\n",
              "      quickchartButtonEl.classList.add('colab-df-spinner');\n",
              "      try {\n",
              "        const charts = await google.colab.kernel.invokeFunction(\n",
              "            'suggestCharts', [key], {});\n",
              "      } catch (error) {\n",
              "        console.error('Error during call to suggestCharts:', error);\n",
              "      }\n",
              "      quickchartButtonEl.classList.remove('colab-df-spinner');\n",
              "      quickchartButtonEl.classList.add('colab-df-quickchart-complete');\n",
              "    }\n",
              "    (() => {\n",
              "      let quickchartButtonEl =\n",
              "        document.querySelector('#df-80289ef8-dcd8-458c-82dd-71a2eb71225f button');\n",
              "      quickchartButtonEl.style.display =\n",
              "        google.colab.kernel.accessAllowed ? 'block' : 'none';\n",
              "    })();\n",
              "  </script>\n",
              "</div>\n",
              "    </div>\n",
              "  </div>\n"
            ]
          },
          "metadata": {},
          "execution_count": 6
        }
      ]
    },
    {
      "cell_type": "code",
      "source": [
        "c = 0\n",
        "for i in df['hs_city']:\n",
        "  if(i == 'Pheonix'):\n",
        "    c += 1\n",
        "print(c)"
      ],
      "metadata": {
        "colab": {
          "base_uri": "https://localhost:8080/"
        },
        "id": "2UIRfggTv8BY",
        "outputId": "7495f73c-9dd7-49d5-84a1-37301b3f8135"
      },
      "execution_count": 7,
      "outputs": [
        {
          "output_type": "stream",
          "name": "stdout",
          "text": [
            "2\n"
          ]
        }
      ]
    },
    {
      "cell_type": "markdown",
      "source": [
        "**1) How to display all city with a count**"
      ],
      "metadata": {
        "id": "KhOEgFsDw4iz"
      }
    },
    {
      "cell_type": "code",
      "source": [
        "for name in df['hs_city'].unique():\n",
        "\n",
        "  count = 0\n",
        "  for i in df['hs_city']:\n",
        "    if(i == name):\n",
        "      count += 1\n",
        "  print(name,':',count)\n",
        "print(\"Info helped!\")"
      ],
      "metadata": {
        "colab": {
          "base_uri": "https://localhost:8080/"
        },
        "id": "IPOUev2WwrAK",
        "outputId": "d2f727b3-ae66-4228-d16c-beb78097f56e"
      },
      "execution_count": 11,
      "outputs": [
        {
          "output_type": "stream",
          "name": "stdout",
          "text": [
            "Albuquerque : 1\n",
            "New York : 1\n",
            "Pheonix : 2\n",
            "Seattle : 1\n",
            "Denver : 3\n",
            "Austin : 1\n",
            "Info helped!\n"
          ]
        }
      ]
    },
    {
      "cell_type": "markdown",
      "source": [
        "**2) Disply in dictornary**"
      ],
      "metadata": {
        "id": "Y-VG_q5SyQq8"
      }
    },
    {
      "cell_type": "code",
      "source": [
        "\n",
        "hs_cites = {}\n",
        "\n",
        "for name in df['hs_city'].unique():\n",
        "\n",
        "  count = 0\n",
        "  for i in df['hs_city']:\n",
        "    if(i == name):\n",
        "      count += 1\n",
        "  hs_cites[name] = count\n"
      ],
      "metadata": {
        "id": "PZDP1bKZxtsB"
      },
      "execution_count": 12,
      "outputs": []
    },
    {
      "cell_type": "code",
      "source": [
        "hs_cites"
      ],
      "metadata": {
        "colab": {
          "base_uri": "https://localhost:8080/"
        },
        "id": "-VIb9olvyvxO",
        "outputId": "1d743e14-8195-4f0f-95d4-b504a9ba5a36"
      },
      "execution_count": 13,
      "outputs": [
        {
          "output_type": "execute_result",
          "data": {
            "text/plain": [
              "{'Albuquerque': 1,\n",
              " 'New York': 1,\n",
              " 'Pheonix': 2,\n",
              " 'Seattle': 1,\n",
              " 'Denver': 3,\n",
              " 'Austin': 1}"
            ]
          },
          "metadata": {},
          "execution_count": 13
        }
      ]
    },
    {
      "cell_type": "code",
      "source": [
        "hs_cites['New York']"
      ],
      "metadata": {
        "colab": {
          "base_uri": "https://localhost:8080/"
        },
        "id": "bqW-Q-R1y03M",
        "outputId": "8193035d-63b0-46b7-edb7-67718afa15d4"
      },
      "execution_count": 14,
      "outputs": [
        {
          "output_type": "execute_result",
          "data": {
            "text/plain": [
              "1"
            ]
          },
          "metadata": {},
          "execution_count": 14
        }
      ]
    },
    {
      "cell_type": "markdown",
      "source": [
        "**3) How to display all female and male with a count**"
      ],
      "metadata": {
        "id": "D3DpfmBJzKKW"
      }
    },
    {
      "cell_type": "code",
      "source": [
        "Stu_Gender = {}\n",
        "\n",
        "for name in df['gender'].unique():\n",
        "\n",
        "  count = 0\n",
        "  for i in df['gender']:\n",
        "    if(i == name):\n",
        "      count += 1\n",
        "  Stu_Gender[name] = count"
      ],
      "metadata": {
        "id": "3j1viFtOzWKo"
      },
      "execution_count": 15,
      "outputs": []
    },
    {
      "cell_type": "code",
      "source": [
        "Stu_Gender"
      ],
      "metadata": {
        "colab": {
          "base_uri": "https://localhost:8080/"
        },
        "id": "TdbW3ijBzqkJ",
        "outputId": "766a9f2f-9b8f-4958-ddfa-912011f4a4ba"
      },
      "execution_count": 16,
      "outputs": [
        {
          "output_type": "execute_result",
          "data": {
            "text/plain": [
              "{'M': 4, 'F': 5}"
            ]
          },
          "metadata": {},
          "execution_count": 16
        }
      ]
    },
    {
      "cell_type": "markdown",
      "source": [
        "4) How to display states with a count"
      ],
      "metadata": {
        "id": "jsO45Z6Fzzox"
      }
    },
    {
      "cell_type": "code",
      "source": [
        "Stu_State = {}\n",
        "\n",
        "for name in df['hs_state'].unique():\n",
        "\n",
        "  count = 0\n",
        "  for i in df['hs_state']:\n",
        "    if(i == name):\n",
        "      count += 1\n",
        "  Stu_State[name] = count"
      ],
      "metadata": {
        "id": "0lrMZftfzy3p"
      },
      "execution_count": 19,
      "outputs": []
    },
    {
      "cell_type": "code",
      "source": [
        "Stu_State"
      ],
      "metadata": {
        "colab": {
          "base_uri": "https://localhost:8080/"
        },
        "id": "_qxOnWlG0SUK",
        "outputId": "37c00e31-69ce-44e6-e51f-daccd7931573"
      },
      "execution_count": 20,
      "outputs": [
        {
          "output_type": "execute_result",
          "data": {
            "text/plain": [
              "{'New Mexico': 1,\n",
              " 'New York': 1,\n",
              " 'Arizona': 2,\n",
              " 'Washington': 1,\n",
              " 'Colorado': 3,\n",
              " 'Texas': 1}"
            ]
          },
          "metadata": {},
          "execution_count": 20
        }
      ]
    },
    {
      "cell_type": "code",
      "source": [
        "df['hs_gpa'].describe()"
      ],
      "metadata": {
        "colab": {
          "base_uri": "https://localhost:8080/"
        },
        "id": "2-SMqhnI0dWY",
        "outputId": "26478fba-7c48-4075-fca1-6b9586da028b"
      },
      "execution_count": 21,
      "outputs": [
        {
          "output_type": "execute_result",
          "data": {
            "text/plain": [
              "count    8.000000\n",
              "mean     3.280000\n",
              "std      0.609473\n",
              "min      2.540000\n",
              "25%      2.692500\n",
              "50%      3.350000\n",
              "75%      3.692500\n",
              "max      4.240000\n",
              "Name: hs_gpa, dtype: float64"
            ]
          },
          "metadata": {},
          "execution_count": 21
        }
      ]
    }
  ]
}